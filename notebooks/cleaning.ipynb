{
 "cells": [
  {
   "cell_type": "markdown",
   "id": "8049aaf5-b089-4537-be0b-38c30c03a862",
   "metadata": {},
   "source": [
    "# Cleaning"
   ]
  },
  {
   "cell_type": "markdown",
   "id": "93ee203a-59ab-4ff2-80fe-8fe55b68e552",
   "metadata": {},
   "source": [
    "## Imports"
   ]
  },
  {
   "cell_type": "code",
   "execution_count": 14,
   "id": "7ea8a4b5-cfb0-4519-b85e-300dc65b4220",
   "metadata": {},
   "outputs": [],
   "source": [
    "import pandas as pd\n",
    "import json\n",
    "import sys\n",
    "import os\n",
    "\n",
    "sys.path.append(os.path.abspath('../src'))\n",
    "\n",
    "import api.spotify.search as searcher"
   ]
  },
  {
   "cell_type": "code",
   "execution_count": 16,
   "id": "3dc53cab-fcc0-49f8-9d44-0b196f8ae0c9",
   "metadata": {},
   "outputs": [
    {
     "name": "stderr",
     "output_type": "stream",
     "text": [
      "2025-01-31 23:43:33,049 - INFO - Refreshing Spotify access token...\n",
      "2025-01-31 23:43:33,128 - INFO - Access token refreshed successfully!\n"
     ]
    },
    {
     "name": "stdout",
     "output_type": "stream",
     "text": [
      "{\n",
      "  \"Track\": \"CARNIVAL\",\n",
      "  \"Album Name\": \"VULTURES 1\",\n",
      "  \"Artist\": \"\\u00a5$\"\n",
      "}\n"
     ]
    }
   ],
   "source": [
    "info = searcher.search_isrc('QZ7XS2400012')\n",
    "if info:\n",
    "    print(json.dumps(info, indent=2)) "
   ]
  },
  {
   "cell_type": "code",
   "execution_count": 39,
   "id": "1dc95aa2-45e1-4814-8215-6a7e3760c95c",
   "metadata": {},
   "outputs": [],
   "source": [
    "base = pd.read_csv('./data/Most_Streamed_Spotify_Songs_2024_utf8.csv')"
   ]
  },
  {
   "cell_type": "markdown",
   "id": "436fa3ec-62f4-4645-8365-c10f08e16e62",
   "metadata": {},
   "source": [
    "## Corrupted Characters"
   ]
  },
  {
   "cell_type": "markdown",
   "id": "d8264ff6-b200-478a-a533-a2425d4dc856",
   "metadata": {},
   "source": [
    "The creator of the CSV dataset improperly encoded the data when uploading, resulting in many corrupted characters, e.g.,\n",
    "\n",
    "1. `Track` on Line **89**: Titï¿½ï¿½ Me Pregu\n",
    "2. `Album Name` on Line **28**: ýýýýýýýýý ýýýýýý ýýýýýýýýýýýý\n",
    "\n",
    "After unsuccessfully trying various decoding methods, I turned to Spotify's API to fix the corrupted text. Each track in the dataset has an ISRC (International Standard Recording Code), and Spotify provides ISRC metadata for most tracks. By matching ISRCs, I retrieve the correct metadata and replace the corrupted text with properly encoded UTF-8 values."
   ]
  },
  {
   "cell_type": "code",
   "execution_count": 42,
   "id": "24951810-be97-45f6-97fa-da4be4831c74",
   "metadata": {},
   "outputs": [],
   "source": [
    "base_corrupt = base[['Track', 'Album Name', 'Artist', 'ISRC']]"
   ]
  },
  {
   "cell_type": "code",
   "execution_count": 43,
   "id": "c17063f0-f993-422b-befc-55d7242367db",
   "metadata": {},
   "outputs": [
    {
     "data": {
      "text/html": [
       "<div>\n",
       "<style scoped>\n",
       "    .dataframe tbody tr th:only-of-type {\n",
       "        vertical-align: middle;\n",
       "    }\n",
       "\n",
       "    .dataframe tbody tr th {\n",
       "        vertical-align: top;\n",
       "    }\n",
       "\n",
       "    .dataframe thead th {\n",
       "        text-align: right;\n",
       "    }\n",
       "</style>\n",
       "<table border=\"1\" class=\"dataframe\">\n",
       "  <thead>\n",
       "    <tr style=\"text-align: right;\">\n",
       "      <th></th>\n",
       "      <th>Track</th>\n",
       "      <th>Album Name</th>\n",
       "      <th>Artist</th>\n",
       "      <th>ISRC</th>\n",
       "    </tr>\n",
       "  </thead>\n",
       "  <tbody>\n",
       "    <tr>\n",
       "      <th>0</th>\n",
       "      <td>MILLION DOLLAR BABY</td>\n",
       "      <td>Million Dollar Baby - Single</td>\n",
       "      <td>Tommy Richman</td>\n",
       "      <td>QM24S2402528</td>\n",
       "    </tr>\n",
       "    <tr>\n",
       "      <th>1</th>\n",
       "      <td>Not Like Us</td>\n",
       "      <td>Not Like Us</td>\n",
       "      <td>Kendrick Lamar</td>\n",
       "      <td>USUG12400910</td>\n",
       "    </tr>\n",
       "    <tr>\n",
       "      <th>2</th>\n",
       "      <td>i like the way you kiss me</td>\n",
       "      <td>I like the way you kiss me</td>\n",
       "      <td>Artemas</td>\n",
       "      <td>QZJ842400387</td>\n",
       "    </tr>\n",
       "    <tr>\n",
       "      <th>3</th>\n",
       "      <td>Flowers</td>\n",
       "      <td>Flowers - Single</td>\n",
       "      <td>Miley Cyrus</td>\n",
       "      <td>USSM12209777</td>\n",
       "    </tr>\n",
       "    <tr>\n",
       "      <th>4</th>\n",
       "      <td>Houdini</td>\n",
       "      <td>Houdini</td>\n",
       "      <td>Eminem</td>\n",
       "      <td>USUG12403398</td>\n",
       "    </tr>\n",
       "    <tr>\n",
       "      <th>5</th>\n",
       "      <td>Lovin On Me</td>\n",
       "      <td>Lovin On Me</td>\n",
       "      <td>Jack Harlow</td>\n",
       "      <td>USAT22311371</td>\n",
       "    </tr>\n",
       "    <tr>\n",
       "      <th>6</th>\n",
       "      <td>Beautiful Things</td>\n",
       "      <td>Beautiful Things</td>\n",
       "      <td>Benson Boone</td>\n",
       "      <td>USWB12307016</td>\n",
       "    </tr>\n",
       "    <tr>\n",
       "      <th>7</th>\n",
       "      <td>Gata Only</td>\n",
       "      <td>Gata Only</td>\n",
       "      <td>FloyyMenor</td>\n",
       "      <td>QZL382406049</td>\n",
       "    </tr>\n",
       "    <tr>\n",
       "      <th>8</th>\n",
       "      <td>Danza Kuduro - Cover</td>\n",
       "      <td>ýýýýýýýýýýýýýýýýýýýýý - ýýýýýýýýýýýýýýýýýý -</td>\n",
       "      <td>MUSIC LAB JPN</td>\n",
       "      <td>TCJPA2463708</td>\n",
       "    </tr>\n",
       "    <tr>\n",
       "      <th>9</th>\n",
       "      <td>BAND4BAND (feat. Lil Baby)</td>\n",
       "      <td>BAND4BAND (feat. Lil Baby)</td>\n",
       "      <td>Central Cee</td>\n",
       "      <td>USSM12404354</td>\n",
       "    </tr>\n",
       "  </tbody>\n",
       "</table>\n",
       "</div>"
      ],
      "text/plain": [
       "                        Track                                    Album Name  \\\n",
       "0         MILLION DOLLAR BABY                  Million Dollar Baby - Single   \n",
       "1                 Not Like Us                                   Not Like Us   \n",
       "2  i like the way you kiss me                    I like the way you kiss me   \n",
       "3                     Flowers                              Flowers - Single   \n",
       "4                     Houdini                                       Houdini   \n",
       "5                 Lovin On Me                                   Lovin On Me   \n",
       "6            Beautiful Things                              Beautiful Things   \n",
       "7                   Gata Only                                     Gata Only   \n",
       "8        Danza Kuduro - Cover  ýýýýýýýýýýýýýýýýýýýýý - ýýýýýýýýýýýýýýýýýý -   \n",
       "9  BAND4BAND (feat. Lil Baby)                    BAND4BAND (feat. Lil Baby)   \n",
       "\n",
       "           Artist          ISRC  \n",
       "0   Tommy Richman  QM24S2402528  \n",
       "1  Kendrick Lamar  USUG12400910  \n",
       "2         Artemas  QZJ842400387  \n",
       "3     Miley Cyrus  USSM12209777  \n",
       "4          Eminem  USUG12403398  \n",
       "5     Jack Harlow  USAT22311371  \n",
       "6    Benson Boone  USWB12307016  \n",
       "7      FloyyMenor  QZL382406049  \n",
       "8   MUSIC LAB JPN  TCJPA2463708  \n",
       "9     Central Cee  USSM12404354  "
      ]
     },
     "execution_count": 43,
     "metadata": {},
     "output_type": "execute_result"
    }
   ],
   "source": [
    "base_corrupt.head(10)"
   ]
  }
 ],
 "metadata": {
  "kernelspec": {
   "display_name": "Python 3 (ipykernel)",
   "language": "python",
   "name": "python3"
  },
  "language_info": {
   "codemirror_mode": {
    "name": "ipython",
    "version": 3
   },
   "file_extension": ".py",
   "mimetype": "text/x-python",
   "name": "python",
   "nbconvert_exporter": "python",
   "pygments_lexer": "ipython3",
   "version": "3.10.8"
  }
 },
 "nbformat": 4,
 "nbformat_minor": 5
}
