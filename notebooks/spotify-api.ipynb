{
 "cells": [
  {
   "cell_type": "markdown",
   "id": "31742056-3d7e-4e57-a704-2b8809c50a7b",
   "metadata": {},
   "source": [
    "# Spotify API"
   ]
  },
  {
   "cell_type": "markdown",
   "id": "59386057-5c87-4d8c-b75f-0e4e7184e48d",
   "metadata": {},
   "source": [
    "## Authentication and Authorization Tokens"
   ]
  },
  {
   "cell_type": "markdown",
   "id": "c301e8d3-572f-4509-8ac1-0411163cb3fe",
   "metadata": {},
   "source": [
    "Load client credentials from .env file."
   ]
  },
  {
   "cell_type": "code",
   "execution_count": 2,
   "id": "71a27e0e-2fa9-44bf-9de4-83ff2e426175",
   "metadata": {},
   "outputs": [
    {
     "name": "stdout",
     "output_type": "stream",
     "text": [
      "Collecting python-dotenv\n",
      "  Using cached python_dotenv-1.0.1-py3-none-any.whl (19 kB)\n",
      "Installing collected packages: python-dotenv\n",
      "Successfully installed python-dotenv-1.0.1\n"
     ]
    },
    {
     "data": {
      "text/plain": [
       "0"
      ]
     },
     "execution_count": 2,
     "metadata": {},
     "output_type": "execute_result"
    }
   ],
   "source": [
    "import subprocess\n",
    "import sys\n",
    "\n",
    "subprocess.check_call([sys.executable, '-m', 'pip', 'install', 'python-dotenv'])"
   ]
  },
  {
   "cell_type": "code",
   "execution_count": 3,
   "id": "ba9231fd-5e4f-40b3-8f76-90227127e4a5",
   "metadata": {},
   "outputs": [],
   "source": [
    "import os\n",
    "from dotenv import load_dotenv\n",
    "\n",
    "load_dotenv()\n",
    "\n",
    "CLIENT_ID = os.getenv('CLIENT_ID')\n",
    "CLIENT_SECRET = os.getenv('CLIENT_SECRET')"
   ]
  },
  {
   "cell_type": "markdown",
   "id": "bfe79137-6c8d-42f0-b313-79f334a81080",
   "metadata": {},
   "source": [
    "Use client credentials to obtain access token for Spotify API. \n",
    "\n",
    "See https://developer.spotify.com/documentation/web-api/tutorials/client-credentials-flow for details."
   ]
  },
  {
   "cell_type": "code",
   "execution_count": 4,
   "id": "2f851573-cf52-419e-8f8d-ea31fd8d6c8a",
   "metadata": {},
   "outputs": [],
   "source": [
    "import requests\n",
    "import time\n",
    "import base64\n",
    "import json\n",
    "import os\n",
    "\n",
    "TOKEN_ENDPOINT = 'https://accounts.spotify.com/api/token'\n",
    "TOKEN_FILE = 'spotify_token.json'\n",
    "\n",
    "class SpotifyAuthenticator:\n",
    "    def __init__(self):\n",
    "        self.access_token = None\n",
    "        self.expires_at = 0\n",
    "        self.load_token()\n",
    "        \n",
    "    def load_token(self):\n",
    "        \"\"\"Loads most recent access token.\"\"\"\n",
    "        if os.path.exists(TOKEN_FILE):\n",
    "            with open(TOKEN_FILE, 'r') as file:\n",
    "                data = json.load(file)\n",
    "                self.access_token = data.get('access_token')\n",
    "                self.expires_at = data.get('expires_at', 0)\n",
    "        \n",
    "    def save_token(self):\n",
    "        \"\"\"Saves access token for persistence.\"\"\"\n",
    "        with open(TOKEN_FILE, 'w') as file:\n",
    "            json.dump({'access_token': self.access_token, 'expires_at': self.expires_at}, file)\n",
    "        \n",
    "    def get_token(self):\n",
    "        \"\"\"Returns access token or refreshes token if expired.\"\"\"\n",
    "        if not self.access_token or time.time() >= self.expires_at:\n",
    "            self.refresh_token()\n",
    "        return self.access_token\n",
    "    \n",
    "    def refresh_token(self):\n",
    "        \"\"\"Requests access token.\"\"\"\n",
    "        print('Refreshing access token...')\n",
    "        \n",
    "        credentials = f'{CLIENT_ID}:{CLIENT_SECRET}'\n",
    "        \n",
    "        # converts credentials: string -> bytes, bytes encode to Base64, bytes -> string\n",
    "        encoded_credentials = base64.b64encode(credentials.encode()).decode()\n",
    "        \n",
    "        headers = {\n",
    "            'Authorization': f'Basic {encoded_credentials}',\n",
    "            'Content-Type': 'application/x-www-form-urlencoded'\n",
    "        }\n",
    "        data = {'grant_type': 'client_credentials'}\n",
    "        \n",
    "        response = requests.post(TOKEN_ENDPOINT, headers=headers, data=data)\n",
    "        \n",
    "        if response.status_code == 200:\n",
    "            token_data = response.json()\n",
    "            self.access_token = token_data['access_token']\n",
    "            self.expires_at = time.time() + token_data['expires_in'] - 60\n",
    "            self.save_token()\n",
    "            print('Access token refreshed successfully!')\n",
    "        else:\n",
    "            raise Exception(f'Could not refresh access token: {response.status_code}, {response.text}')\n",
    "            \n",
    "spotify_authenticator = SpotifyAuthenticator()"
   ]
  },
  {
   "cell_type": "markdown",
   "id": "d676da94-d6cb-4e6b-94f2-556e59673695",
   "metadata": {},
   "source": [
    "## Querying by ISRC"
   ]
  },
  {
   "cell_type": "code",
   "execution_count": 5,
   "id": "d15d271a-7cb0-4719-acd5-1ab4ce0f0c7d",
   "metadata": {
    "tags": []
   },
   "outputs": [],
   "source": [
    "import requests\n",
    "import time\n",
    "import json\n",
    "\n",
    "SEARCH_ENDPOINT = 'https://api.spotify.com/v1/search'\n",
    "\n",
    "def search_isrc(isrc, category='track', limit=1):\n",
    "    \"\"\"Search Spotify for media using ISRC (International Standard Recording Code).\"\"\"\n",
    "    token = spotify_authenticator.get_token()\n",
    "    headers = {'Authorization': f'Bearer {token}'}\n",
    "    \n",
    "    query = f'isrc:{isrc}'\n",
    "    params = {'q': query, 'type': category, 'limit': limit}\n",
    "\n",
    "    response = requests.get(SEARCH_ENDPOINT, headers=headers, params=params)\n",
    "\n",
    "    if response.status_code == 200:\n",
    "        return extract_track_info(response.json(), isrc)\n",
    "    else:\n",
    "        print(f'Error {response.status_code} for ISRC {isrc}: {response.text}')\n",
    "        return None"
   ]
  },
  {
   "cell_type": "markdown",
   "id": "7eb28527-3997-4cf8-a973-4a3164fb2111",
   "metadata": {
    "tags": []
   },
   "source": [
    "## Processing"
   ]
  },
  {
   "cell_type": "code",
   "execution_count": 7,
   "id": "89cf9007-0905-40e7-938a-5e323ef6425c",
   "metadata": {
    "tags": []
   },
   "outputs": [
    {
     "name": "stdout",
     "output_type": "stream",
     "text": [
      "{\n",
      "  \"Track\": \"CARNIVAL\",\n",
      "  \"Album Name\": \"VULTURES 1\",\n",
      "  \"Artist\": \"\\u00a5$\"\n",
      "}\n"
     ]
    }
   ],
   "source": [
    "import json\n",
    "\n",
    "def extract_track_info(results, isrc):\n",
    "    \"\"\"Exctract track name, album name, and artist name from response.\"\"\"\n",
    "    items = results.get('tracks', {}).get('items', [])\n",
    "    if items:\n",
    "        top_result = items[0]\n",
    "        return {\n",
    "            'Track': top_result['name'],\n",
    "            'Album Name': top_result['album']['name'],\n",
    "            'Artist': top_result['artists'][0]['name']\n",
    "        }\n",
    "    else:\n",
    "        print(f'No results found for ISRC {isrc}')\n",
    "        return None\n",
    "\n",
    "info = search_isrc('QZ7XS2400012')\n",
    "if info:\n",
    "    print(json.dumps(info, indent=2)) "
   ]
  },
  {
   "cell_type": "code",
   "execution_count": 8,
   "id": "24be037f-c8b7-474d-b44a-7af6334299cb",
   "metadata": {},
   "outputs": [
    {
     "name": "stdout",
     "output_type": "stream",
     "text": [
      "{'Track': 'CARNIVAL', 'Album Name': 'VULTURES 1', 'Artist': '¥$'}\n"
     ]
    }
   ],
   "source": [
    "print(info)"
   ]
  }
 ],
 "metadata": {
  "kernelspec": {
   "display_name": "Python 3 (ipykernel)",
   "language": "python",
   "name": "python3"
  },
  "language_info": {
   "codemirror_mode": {
    "name": "ipython",
    "version": 3
   },
   "file_extension": ".py",
   "mimetype": "text/x-python",
   "name": "python",
   "nbconvert_exporter": "python",
   "pygments_lexer": "ipython3",
   "version": "3.10.8"
  }
 },
 "nbformat": 4,
 "nbformat_minor": 5
}
