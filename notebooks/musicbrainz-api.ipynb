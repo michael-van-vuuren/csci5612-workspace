{
 "cells": [
  {
   "cell_type": "markdown",
   "id": "27518c98-04e2-4304-8934-489f5e10dd79",
   "metadata": {},
   "source": [
    "# MusicBrainz API"
   ]
  },
  {
   "cell_type": "markdown",
   "id": "4e19f9c4-cd9e-4734-9d74-16fb7dcfa32e",
   "metadata": {},
   "source": [
    "## Querying by ISRC"
   ]
  },
  {
   "cell_type": "code",
   "execution_count": 9,
   "id": "ee0a3da5-654d-4081-99ce-c9e10ab5c2fd",
   "metadata": {},
   "outputs": [],
   "source": [
    "import requests\n",
    "import json\n",
    "\n",
    "MUSICBRAINZ_ENDPOINT = 'https://musicbrainz.org/ws/2/recording/'\n",
    "\n",
    "def search_isrc(isrc):\n",
    "    \"\"\"Search MusicBrainz for track information using ISRC.\"\"\"\n",
    "    headers = {'User-Agent': 'DataScienceProject/1.0 ( miva6981@colorado.edu )'}\n",
    "    \n",
    "    query = f'isrc:{isrc}'\n",
    "    params = {'query': query, 'fmt': 'json'}\n",
    "\n",
    "    response = requests.get(MUSICBRAINZ_ENDPOINT, headers=headers, params=params)\n",
    "\n",
    "    if response.status_code == 200:\n",
    "        return extract_recording_info(response.json(), isrc)\n",
    "    else:\n",
    "        print(f'Error {response.status_code} for ISRC {isrc}: {response.text}')\n",
    "        return None"
   ]
  },
  {
   "cell_type": "markdown",
   "id": "f5b51e31-963d-4c1b-a45f-036f6b0adf63",
   "metadata": {},
   "source": [
    "## Processing"
   ]
  },
  {
   "cell_type": "code",
   "execution_count": 10,
   "id": "bd47bd49-3481-4087-8913-b75774145a89",
   "metadata": {},
   "outputs": [
    {
     "name": "stdout",
     "output_type": "stream",
     "text": [
      "{\n",
      "  \"Length\": 251.146,\n",
      "  \"Releases\": 17,\n",
      "  \"Genres\": [\n",
      "    \"pop soul\",\n",
      "    \"pop rock\",\n",
      "    \"pop\",\n",
      "    \"folk\"\n",
      "  ]\n",
      "}\n"
     ]
    }
   ],
   "source": [
    "import json\n",
    "\n",
    "def extract_recording_info(results, isrc):\n",
    "    \"\"\"Extracts and aggregates length, release count, and tags from the API response.\"\"\"\n",
    "    recordings = results.get('recordings', [])\n",
    "    \n",
    "    # not found -> Length = None\n",
    "    # found, but no valid lengths -> Length = 0\n",
    "    # found, valid lengths -> Length = length_avg\n",
    "    if not recordings:\n",
    "        print(f'No recordings found for ISRC {isrc}')\n",
    "        return {'Length': None, 'Releases': 0, 'Genres': []}\n",
    "    \n",
    "    total_length = 0\n",
    "    total_releases = 0\n",
    "    tags_set = set()\n",
    "    valid_lengths = 0\n",
    "\n",
    "    for recording in recordings:\n",
    "        # extract length\n",
    "        length = recording.get('length')\n",
    "        if length:\n",
    "            total_length += length\n",
    "            valid_lengths += 1\n",
    "\n",
    "        # count releases\n",
    "        releases = recording.get('releases', [])\n",
    "        total_releases += len(releases)\n",
    "\n",
    "        # collect tags\n",
    "        tags = recording.get('tags', [])\n",
    "        tags_set.update(tag['name'] for tag in tags if 'name' in tag)\n",
    "\n",
    "    # average length in seconds\n",
    "    length_avg = (total_length / valid_lengths / 1000) if valid_lengths > 0 else None\n",
    "\n",
    "    return {\n",
    "        'Length': length_avg,\n",
    "        'Releases': total_releases,\n",
    "        'Genres': list(tags_set)\n",
    "    }\n",
    "\n",
    "isrc_code = 'USSM12401865'\n",
    "track_info = search_isrc(isrc_code)\n",
    "\n",
    "print(json.dumps(track_info, indent=2))"
   ]
  }
 ],
 "metadata": {
  "kernelspec": {
   "display_name": "Python 3 (ipykernel)",
   "language": "python",
   "name": "python3"
  },
  "language_info": {
   "codemirror_mode": {
    "name": "ipython",
    "version": 3
   },
   "file_extension": ".py",
   "mimetype": "text/x-python",
   "name": "python",
   "nbconvert_exporter": "python",
   "pygments_lexer": "ipython3",
   "version": "3.10.8"
  }
 },
 "nbformat": 4,
 "nbformat_minor": 5
}
