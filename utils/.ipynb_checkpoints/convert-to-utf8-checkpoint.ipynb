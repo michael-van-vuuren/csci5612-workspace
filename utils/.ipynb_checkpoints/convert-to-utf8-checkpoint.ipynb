{
 "cells": [
  {
   "cell_type": "code",
   "execution_count": 2,
   "id": "91a20562-d587-48e4-96fd-8a72b49ce271",
   "metadata": {},
   "outputs": [
    {
     "name": "stdout",
     "output_type": "stream",
     "text": [
      "Converted successfully.\n"
     ]
    }
   ],
   "source": [
    "import pandas as pd\n",
    "\n",
    "input_file = '../data/Most Streamed Spotify Songs 2024.csv'\n",
    "output_file = '../data/Most_Streamed_Spotify_Songs_2024_utf8.csv'\n",
    "\n",
    "df = pd.read_csv(input_file, encoding='latin1')\n",
    "df.to_csv(output_file, index=False, encoding='utf-8')\n",
    "\n",
    "print('Converted successfully.')"
   ]
  }
 ],
 "metadata": {
  "kernelspec": {
   "display_name": "Python 3 (ipykernel)",
   "language": "python",
   "name": "python3"
  },
  "language_info": {
   "codemirror_mode": {
    "name": "ipython",
    "version": 3
   },
   "file_extension": ".py",
   "mimetype": "text/x-python",
   "name": "python",
   "nbconvert_exporter": "python",
   "pygments_lexer": "ipython3",
   "version": "3.10.8"
  }
 },
 "nbformat": 4,
 "nbformat_minor": 5
}
