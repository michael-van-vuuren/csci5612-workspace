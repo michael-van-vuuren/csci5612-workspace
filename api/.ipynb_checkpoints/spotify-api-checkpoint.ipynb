{
 "cells": [
  {
   "cell_type": "markdown",
   "id": "31742056-3d7e-4e57-a704-2b8809c50a7b",
   "metadata": {},
   "source": [
    "# Spotify API"
   ]
  },
  {
   "cell_type": "code",
   "execution_count": null,
   "id": "05637603-5041-4432-a354-247f275f45f8",
   "metadata": {},
   "outputs": [],
   "source": []
  }
 ],
 "metadata": {
  "kernelspec": {
   "display_name": "Python 3 (ipykernel)",
   "language": "python",
   "name": "python3"
  },
  "language_info": {
   "codemirror_mode": {
    "name": "ipython",
    "version": 3
   },
   "file_extension": ".py",
   "mimetype": "text/x-python",
   "name": "python",
   "nbconvert_exporter": "python",
   "pygments_lexer": "ipython3",
   "version": "3.10.8"
  }
 },
 "nbformat": 4,
 "nbformat_minor": 5
}
