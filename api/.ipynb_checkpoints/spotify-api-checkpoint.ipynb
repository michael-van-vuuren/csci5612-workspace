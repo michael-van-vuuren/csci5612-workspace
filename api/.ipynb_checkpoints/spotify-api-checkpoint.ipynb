{
 "cells": [
  {
   "cell_type": "markdown",
   "id": "31742056-3d7e-4e57-a704-2b8809c50a7b",
   "metadata": {},
   "source": [
    "# Spotify API"
   ]
  },
  {
   "cell_type": "markdown",
   "id": "59386057-5c87-4d8c-b75f-0e4e7184e48d",
   "metadata": {},
   "source": [
    "## Authentication and Authorization Tokens"
   ]
  },
  {
   "cell_type": "markdown",
   "id": "c301e8d3-572f-4509-8ac1-0411163cb3fe",
   "metadata": {},
   "source": [
    "Load client credentials from .env file."
   ]
  },
  {
   "cell_type": "code",
   "execution_count": 3,
   "id": "ba9231fd-5e4f-40b3-8f76-90227127e4a5",
   "metadata": {},
   "outputs": [],
   "source": [
    "import os\n",
    "from dotenv import load_dotenv\n",
    "\n",
    "load_dotenv()\n",
    "\n",
    "CLIENT_ID = os.getenv('CLIENT_ID')\n",
    "CLIENT_SECRET = os.getenv('CLIENT_SECRET')"
   ]
  },
  {
   "cell_type": "markdown",
   "id": "bfe79137-6c8d-42f0-b313-79f334a81080",
   "metadata": {},
   "source": [
    "Use client credentials to obtain access token for Spotify API. \n",
    "\n",
    "See https://developer.spotify.com/documentation/web-api/tutorials/client-credentials-flow for details."
   ]
  },
  {
   "cell_type": "code",
   "execution_count": null,
   "id": "2f851573-cf52-419e-8f8d-ea31fd8d6c8a",
   "metadata": {},
   "outputs": [],
   "source": [
    "import requests\n",
    "import time\n",
    "import base64\n",
    "\n",
    "TOKEN_ENDPOINT = 'https://accounts.spotify.com/api/token'\n",
    "TOKEN_FILE = 'spotify_token.json'\n",
    "\n",
    "class SpotifyAuthenticator:\n",
    "    def __init__(self):\n",
    "        self.access_token = None\n",
    "        self.expires_at = 0\n",
    "        self.load_token()\n",
    "        \n",
    "    def load_token(self):\n",
    "        if os.path.exists(TOKEN_FILE):\n",
    "            with open(TOKEN_FILE, 'r') as file:\n",
    "                data = json.load(file)\n",
    "                self.access_token = data.get('access_token')\n",
    "                self.expires_at = data.get('expires_at', 0)\n",
    "        \n",
    "    def save_token(self):\n",
    "        with open(TOKEN_FILE, 'w') as file:\n",
    "            json.dump({'access_token': self.access_token, 'expires_at': self.expires_at}, file)\n",
    "        \n",
    "    def get_token(self):\n",
    "        if not self.access_token or time.time() >= self.expires_at:\n",
    "            self.refresh_token()\n",
    "        return self.access_token\n",
    "    \n",
    "    def refresh_token(self):\n",
    "        print('Refreshing access token...')\n",
    "        \n",
    "        credentials = f'{CLIENT_ID}:{CLIENT_SECRET}'\n",
    "        \n",
    "        # converts credentials: string -> bytes, bytes encode to Base64, bytes -> string\n",
    "        encoded_credentials = base64.b64encode(credentials.encode()).decode()\n",
    "        \n",
    "        headers = {\n",
    "            'Authorization': f'Basic {encoded_credentials}',\n",
    "            'Content-Type': 'application/x-www-form-urlencoded'\n",
    "        }\n",
    "        data = {'grant_type': 'client_credentials'}\n",
    "        \n",
    "        response = requests.post(TOKEN_ENDPOINT, headers=headers, data=data)\n",
    "        \n",
    "        if response.status_code == 200:\n",
    "            token_data = response.json()\n",
    "            self.access_token = token_data['access_token']\n",
    "            self.expires_at = time.time() + token_data['expires_in'] - 60\n",
    "            self.save_token()\n",
    "            print('Access token refreshed successfully!')\n",
    "        else:\n",
    "            raise Exception(f'Could not refresh access token: {response.status_code}, {response.text}')\n",
    "            \n",
    "spotify_authenticator = SpotifyAuthenticator()"
   ]
  },
  {
   "cell_type": "markdown",
   "id": "d676da94-d6cb-4e6b-94f2-556e59673695",
   "metadata": {},
   "source": [
    "## Querying"
   ]
  },
  {
   "cell_type": "code",
   "execution_count": null,
   "id": "d15d271a-7cb0-4719-acd5-1ab4ce0f0c7d",
   "metadata": {},
   "outputs": [],
   "source": [
    "def query_track(name, type='track')"
   ]
  },
  {
   "cell_type": "markdown",
   "id": "7eb28527-3997-4cf8-a973-4a3164fb2111",
   "metadata": {
    "tags": []
   },
   "source": [
    "## Processing"
   ]
  },
  {
   "cell_type": "code",
   "execution_count": null,
   "id": "89cf9007-0905-40e7-938a-5e323ef6425c",
   "metadata": {},
   "outputs": [],
   "source": []
  }
 ],
 "metadata": {
  "kernelspec": {
   "display_name": "Python 3 (ipykernel)",
   "language": "python",
   "name": "python3"
  },
  "language_info": {
   "codemirror_mode": {
    "name": "ipython",
    "version": 3
   },
   "file_extension": ".py",
   "mimetype": "text/x-python",
   "name": "python",
   "nbconvert_exporter": "python",
   "pygments_lexer": "ipython3",
   "version": "3.10.8"
  }
 },
 "nbformat": 4,
 "nbformat_minor": 5
}
