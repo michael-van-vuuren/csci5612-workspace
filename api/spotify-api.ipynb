{
 "cells": [
  {
   "cell_type": "markdown",
   "id": "31742056-3d7e-4e57-a704-2b8809c50a7b",
   "metadata": {},
   "source": [
    "# Spotify API"
   ]
  },
  {
   "cell_type": "markdown",
   "id": "59386057-5c87-4d8c-b75f-0e4e7184e48d",
   "metadata": {},
   "source": [
    "## Authentication and Authorization Tokens"
   ]
  },
  {
   "cell_type": "code",
   "execution_count": null,
   "id": "2f851573-cf52-419e-8f8d-ea31fd8d6c8a",
   "metadata": {},
   "outputs": [],
   "source": [
    "import requests\n",
    "import time\n",
    "\n",
    "CLIENT_ID = \"your_client_id\"\n",
    "CLIENT_SECRET = \"your_client_secret\"\n",
    "\n",
    "def get_access_token():\n",
    "    url = \"https://accounts.spotify.com/api/token\"\n",
    "    headers = {\"Content-Type\": \"application/x-www-form-urlencoded\"}\n",
    "    data = {\"grant_type\": \"client_credentials\"}\n",
    "    response = requests.post(url, headers=headers, data=data, auth=(CLIENT_ID, CLIENT_SECRET))\n",
    "    token_info = response.json()\n",
    "    return token_info[\"access_token\"], time.time() + token_info[\"expires_in\"]\n",
    "\n",
    "access_token, expiry_time = get_access_token()\n"
   ]
  },
  {
   "cell_type": "markdown",
   "id": "d676da94-d6cb-4e6b-94f2-556e59673695",
   "metadata": {},
   "source": [
    "## Querying"
   ]
  },
  {
   "cell_type": "code",
   "execution_count": 2,
   "id": "d15d271a-7cb0-4719-acd5-1ab4ce0f0c7d",
   "metadata": {},
   "outputs": [
    {
     "name": "stdout",
     "output_type": "stream",
     "text": [
      "0101522456894982bd89f75900313bc8\n",
      "377301b45b1544f08e9d875263d92bfa\n"
     ]
    }
   ],
   "source": [
    "import os\n",
    "from dotenv import load_dotenv\n",
    "\n",
    "load_dotenv()\n",
    "\n",
    "CLIENT_ID = os.getenv('CLIENT_ID')\n",
    "CLIENT_SECRET = os.getenv('CLIENT_SECRET')\n",
    "\n",
    "print(CLIENT_ID)\n",
    "print(CLIENT_SECRET)"
   ]
  },
  {
   "cell_type": "markdown",
   "id": "7eb28527-3997-4cf8-a973-4a3164fb2111",
   "metadata": {},
   "source": [
    "## Processing"
   ]
  },
  {
   "cell_type": "code",
   "execution_count": null,
   "id": "89cf9007-0905-40e7-938a-5e323ef6425c",
   "metadata": {},
   "outputs": [],
   "source": []
  }
 ],
 "metadata": {
  "kernelspec": {
   "display_name": "Python 3 (ipykernel)",
   "language": "python",
   "name": "python3"
  },
  "language_info": {
   "codemirror_mode": {
    "name": "ipython",
    "version": 3
   },
   "file_extension": ".py",
   "mimetype": "text/x-python",
   "name": "python",
   "nbconvert_exporter": "python",
   "pygments_lexer": "ipython3",
   "version": "3.10.8"
  }
 },
 "nbformat": 4,
 "nbformat_minor": 5
}
