{
 "cells": [
  {
   "cell_type": "markdown",
   "id": "31742056-3d7e-4e57-a704-2b8809c50a7b",
   "metadata": {},
   "source": [
    "# Spotify API"
   ]
  },
  {
   "cell_type": "markdown",
   "id": "59386057-5c87-4d8c-b75f-0e4e7184e48d",
   "metadata": {},
   "source": [
    "## Authentication and Authorization Tokens"
   ]
  },
  {
   "cell_type": "markdown",
   "id": "c301e8d3-572f-4509-8ac1-0411163cb3fe",
   "metadata": {},
   "source": [
    "Load client credentials from .env file."
   ]
  },
  {
   "cell_type": "code",
   "execution_count": 2,
   "id": "ba9231fd-5e4f-40b3-8f76-90227127e4a5",
   "metadata": {},
   "outputs": [],
   "source": [
    "import os\n",
    "from dotenv import load_dotenv\n",
    "\n",
    "load_dotenv()\n",
    "\n",
    "CLIENT_ID = os.getenv('CLIENT_ID')\n",
    "CLIENT_SECRET = os.getenv('CLIENT_SECRET')"
   ]
  },
  {
   "cell_type": "markdown",
   "id": "bfe79137-6c8d-42f0-b313-79f334a81080",
   "metadata": {},
   "source": [
    "Use client credentials to obtain access token for Spotify API. \n",
    "\n",
    "See https://developer.spotify.com/documentation/web-api/tutorials/client-credentials-flow for details."
   ]
  },
  {
   "cell_type": "code",
   "execution_count": 8,
   "id": "2f851573-cf52-419e-8f8d-ea31fd8d6c8a",
   "metadata": {},
   "outputs": [],
   "source": [
    "import requests\n",
    "import time\n",
    "import base64\n",
    "import json\n",
    "import os\n",
    "\n",
    "TOKEN_ENDPOINT = 'https://accounts.spotify.com/api/token'\n",
    "TOKEN_FILE = 'spotify_token.json'\n",
    "\n",
    "class SpotifyAuthenticator:\n",
    "    def __init__(self):\n",
    "        self.access_token = None\n",
    "        self.expires_at = 0\n",
    "        self.load_token()\n",
    "        \n",
    "    def load_token(self):\n",
    "        \"\"\"Loads most recent access token.\"\"\"\n",
    "        if os.path.exists(TOKEN_FILE):\n",
    "            with open(TOKEN_FILE, 'r') as file:\n",
    "                data = json.load(file)\n",
    "                self.access_token = data.get('access_token')\n",
    "                self.expires_at = data.get('expires_at', 0)\n",
    "        \n",
    "    def save_token(self):\n",
    "        \"\"\"For access token persistence.\"\"\"\n",
    "        with open(TOKEN_FILE, 'w') as file:\n",
    "            json.dump({'access_token': self.access_token, 'expires_at': self.expires_at}, file)\n",
    "        \n",
    "    def get_token(self):\n",
    "        \"\"\"Returns access token or refreshes token if expired.\"\"\"\n",
    "        if not self.access_token or time.time() >= self.expires_at:\n",
    "            self.refresh_token()\n",
    "        return self.access_token\n",
    "    \n",
    "    def refresh_token(self):\n",
    "        \"\"\"Requests access token.\"\"\"\n",
    "        print('Refreshing access token...')\n",
    "        \n",
    "        credentials = f'{CLIENT_ID}:{CLIENT_SECRET}'\n",
    "        \n",
    "        # converts credentials: string -> bytes, bytes encode to Base64, bytes -> string\n",
    "        encoded_credentials = base64.b64encode(credentials.encode()).decode()\n",
    "        \n",
    "        headers = {\n",
    "            'Authorization': f'Basic {encoded_credentials}',\n",
    "            'Content-Type': 'application/x-www-form-urlencoded'\n",
    "        }\n",
    "        data = {'grant_type': 'client_credentials'}\n",
    "        \n",
    "        response = requests.post(TOKEN_ENDPOINT, headers=headers, data=data)\n",
    "        \n",
    "        if response.status_code == 200:\n",
    "            token_data = response.json()\n",
    "            self.access_token = token_data['access_token']\n",
    "            self.expires_at = time.time() + token_data['expires_in'] - 60\n",
    "            self.save_token()\n",
    "            print('Access token refreshed successfully!')\n",
    "        else:\n",
    "            raise Exception(f'Could not refresh access token: {response.status_code}, {response.text}')\n",
    "            \n",
    "spotify_authenticator = SpotifyAuthenticator()"
   ]
  },
  {
   "cell_type": "markdown",
   "id": "d676da94-d6cb-4e6b-94f2-556e59673695",
   "metadata": {},
   "source": [
    "## Querying"
   ]
  },
  {
   "cell_type": "code",
   "execution_count": 12,
   "id": "d15d271a-7cb0-4719-acd5-1ab4ce0f0c7d",
   "metadata": {},
   "outputs": [
    {
     "data": {
      "text/plain": [
       "{'tracks': {'href': 'https://api.spotify.com/v1/search?offset=0&limit=1&query=When%20You%20Sleep&type=track',\n",
       "  'limit': 1,\n",
       "  'next': 'https://api.spotify.com/v1/search?offset=1&limit=1&query=When%20You%20Sleep&type=track',\n",
       "  'offset': 0,\n",
       "  'previous': None,\n",
       "  'total': 1000,\n",
       "  'items': [{'album': {'album_type': 'album',\n",
       "     'artists': [{'external_urls': {'spotify': 'https://open.spotify.com/artist/3G3Gdm0ZRAOxLrbyjfhii5'},\n",
       "       'href': 'https://api.spotify.com/v1/artists/3G3Gdm0ZRAOxLrbyjfhii5',\n",
       "       'id': '3G3Gdm0ZRAOxLrbyjfhii5',\n",
       "       'name': 'my bloody valentine',\n",
       "       'type': 'artist',\n",
       "       'uri': 'spotify:artist:3G3Gdm0ZRAOxLrbyjfhii5'}],\n",
       "     'available_markets': ['CA', 'US'],\n",
       "     'external_urls': {'spotify': 'https://open.spotify.com/album/3GH4IiI6jQAIvnHVdb5FB6'},\n",
       "     'href': 'https://api.spotify.com/v1/albums/3GH4IiI6jQAIvnHVdb5FB6',\n",
       "     'id': '3GH4IiI6jQAIvnHVdb5FB6',\n",
       "     'images': [{'height': 640,\n",
       "       'width': 640,\n",
       "       'url': 'https://i.scdn.co/image/ab67616d0000b2730ede770070357575bc050511'},\n",
       "      {'height': 300,\n",
       "       'width': 300,\n",
       "       'url': 'https://i.scdn.co/image/ab67616d00001e020ede770070357575bc050511'},\n",
       "      {'height': 64,\n",
       "       'width': 64,\n",
       "       'url': 'https://i.scdn.co/image/ab67616d000048510ede770070357575bc050511'}],\n",
       "     'is_playable': True,\n",
       "     'name': 'Loveless',\n",
       "     'release_date': '1991-11-04',\n",
       "     'release_date_precision': 'day',\n",
       "     'total_tracks': 11,\n",
       "     'type': 'album',\n",
       "     'uri': 'spotify:album:3GH4IiI6jQAIvnHVdb5FB6'},\n",
       "    'artists': [{'external_urls': {'spotify': 'https://open.spotify.com/artist/3G3Gdm0ZRAOxLrbyjfhii5'},\n",
       "      'href': 'https://api.spotify.com/v1/artists/3G3Gdm0ZRAOxLrbyjfhii5',\n",
       "      'id': '3G3Gdm0ZRAOxLrbyjfhii5',\n",
       "      'name': 'my bloody valentine',\n",
       "      'type': 'artist',\n",
       "      'uri': 'spotify:artist:3G3Gdm0ZRAOxLrbyjfhii5'}],\n",
       "    'available_markets': ['CA', 'US'],\n",
       "    'disc_number': 1,\n",
       "    'duration_ms': 251933,\n",
       "    'explicit': False,\n",
       "    'external_ids': {'isrc': 'USWB10101907'},\n",
       "    'external_urls': {'spotify': 'https://open.spotify.com/track/3HfEgAaf0koxBpBB8NvGda'},\n",
       "    'href': 'https://api.spotify.com/v1/tracks/3HfEgAaf0koxBpBB8NvGda',\n",
       "    'id': '3HfEgAaf0koxBpBB8NvGda',\n",
       "    'is_local': False,\n",
       "    'is_playable': True,\n",
       "    'name': 'When You Sleep',\n",
       "    'popularity': 60,\n",
       "    'preview_url': None,\n",
       "    'track_number': 5,\n",
       "    'type': 'track',\n",
       "    'uri': 'spotify:track:3HfEgAaf0koxBpBB8NvGda'}]}}"
      ]
     },
     "execution_count": 12,
     "metadata": {},
     "output_type": "execute_result"
    }
   ],
   "source": [
    "def spotify_search(query, category='track'):\n",
    "    token = spotify_authenticator.get_token()\n",
    "    url = 'https://api.spotify.com/v1/search'\n",
    "    headers = {'Authorization': f'Bearer {token}'}\n",
    "    params = {'q': query, 'type': category, 'limit': 1}\n",
    "    \n",
    "    response = requests.get(url, headers=headers, params=params)\n",
    "    \n",
    "    if response.status_code == 200:\n",
    "        return response.json()\n",
    "    else:\n",
    "        print(f'Error {response.status_code}: {response.text}')\n",
    "        \n",
    "result = spotify_search('When You Sleep')\n",
    "result"
   ]
  },
  {
   "cell_type": "markdown",
   "id": "7eb28527-3997-4cf8-a973-4a3164fb2111",
   "metadata": {
    "tags": []
   },
   "source": [
    "## Processing"
   ]
  },
  {
   "cell_type": "code",
   "execution_count": null,
   "id": "89cf9007-0905-40e7-938a-5e323ef6425c",
   "metadata": {},
   "outputs": [],
   "source": []
  }
 ],
 "metadata": {
  "kernelspec": {
   "display_name": "Python 3 (ipykernel)",
   "language": "python",
   "name": "python3"
  },
  "language_info": {
   "codemirror_mode": {
    "name": "ipython",
    "version": 3
   },
   "file_extension": ".py",
   "mimetype": "text/x-python",
   "name": "python",
   "nbconvert_exporter": "python",
   "pygments_lexer": "ipython3",
   "version": "3.10.8"
  }
 },
 "nbformat": 4,
 "nbformat_minor": 5
}
